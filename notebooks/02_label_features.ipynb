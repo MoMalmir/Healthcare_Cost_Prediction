{
 "cells": [
  {
   "cell_type": "code",
   "execution_count": 14,
   "metadata": {},
   "outputs": [],
   "source": [
    "import os\n",
    "from dotenv import load_dotenv, find_dotenv\n",
    "from pyspark.sql import SparkSession, functions as F, types as T"
   ]
  },
  {
   "cell_type": "markdown",
   "metadata": {},
   "source": [
    "## Environment setup and Helper to load CSVs"
   ]
  },
  {
   "cell_type": "code",
   "execution_count": 15,
   "metadata": {},
   "outputs": [],
   "source": [
    "\n",
    "# ---- env (DATA_DIR) ----\n",
    "load_dotenv(find_dotenv(usecwd=True), override=True)\n",
    "\n",
    "DATA_DIR = os.getenv(\"DATA_DIR\")\n",
    "assert DATA_DIR and os.path.isdir(DATA_DIR), f\"DATA_DIR not set or invalid: {DATA_DIR}\"\n",
    "\n",
    "# ---- Spark ----\n",
    "spark = (SparkSession.builder\n",
    "    .appName(\"HealthClaims_LabelFeatures\")\n",
    "    .config(\"spark.driver.memory\", \"4g\")  # Increase if you have more RAM\n",
    "    .config(\"spark.executor.memory\", \"4g\")\n",
    "    .config(\"spark.sql.shuffle.partitions\", \"20\")  # Reduce from default 200 for small data\n",
    "    .config(\"spark.driver.maxResultSize\", \"2g\")\n",
    "    .config(\"spark.sql.adaptive.enabled\", \"true\")  # Enable adaptive query execution\n",
    "    .getOrCreate())\n",
    "\n",
    "# helper\n",
    "def load_csv(name: str):\n",
    "    return spark.read.csv(os.path.join(DATA_DIR, f\"{name}.csv\"), header=True, inferSchema=True)"
   ]
  },
  {
   "cell_type": "markdown",
   "metadata": {},
   "source": [
    "## Load patient summary and raw tables"
   ]
  },
  {
   "cell_type": "code",
   "execution_count": 16,
   "metadata": {},
   "outputs": [],
   "source": [
    "# Load patient_summary Parquet\n",
    "ps_dir = os.path.abspath(os.path.join(DATA_DIR, \"..\", \"processed\", \"patient_summary_parquet\"))\n",
    "patient_summary = spark.read.parquet(ps_dir)\n",
    "patient_summary.createOrReplaceTempView(\"patient_summary\")\n",
    "\n",
    "def load_csv(name: str):\n",
    "    return spark.read.csv(os.path.join(DATA_DIR, f\"{name}.csv\"), header=True, inferSchema=True)\n",
    "# Load CSVs\n",
    "patients     = load_csv(\"patients\");     patients.createOrReplaceTempView(\"patients\")\n",
    "encounters   = load_csv(\"encounters\");   encounters.createOrReplaceTempView(\"encounters\")\n",
    "conditions   = load_csv(\"conditions\");   conditions.createOrReplaceTempView(\"conditions\")\n",
    "procedures   = load_csv(\"procedures\");   procedures.createOrReplaceTempView(\"procedures\")\n",
    "medications  = load_csv(\"medications\");  medications.createOrReplaceTempView(\"medications\")\n",
    "observations = load_csv(\"observations\"); observations.createOrReplaceTempView(\"observations\")\n",
    "claims       = load_csv(\"claims\");       claims.createOrReplaceTempView(\"claims\")\n"
   ]
  },
  {
   "cell_type": "markdown",
   "metadata": {},
   "source": [
    "##  Standardize encounter costs"
   ]
  },
  {
   "cell_type": "code",
   "execution_count": 17,
   "metadata": {},
   "outputs": [],
   "source": [
    "enc_cols_lower = {c.lower(): c for c in encounters.columns}\n",
    "for candidate in [\"total_claim_cost\", \"base_encounter_cost\", \"encounter_cost\", \"cost\"]:\n",
    "    if candidate in enc_cols_lower:\n",
    "        cost_col_real = enc_cols_lower[candidate]\n",
    "        break\n",
    "else:\n",
    "    raise ValueError(f\"No cost column found in encounters: {encounters.columns}\")\n",
    "\n",
    "enc_costs = (\n",
    "    encounters\n",
    "    .select(\n",
    "        F.col(\"PATIENT\").alias(\"patient_id\"),\n",
    "        F.to_date(\"START\").alias(\"svc_date\"),\n",
    "        F.col(cost_col_real).cast(\"double\").alias(\"cost\")\n",
    "    )\n",
    "    .where(F.col(\"svc_date\").isNotNull() & F.col(\"cost\").isNotNull())\n",
    "    .cache()  \n",
    ")\n",
    "enc_costs.count()  \n",
    "enc_costs.createOrReplaceTempView(\"enc_costs\")"
   ]
  },
  {
   "cell_type": "markdown",
   "metadata": {},
   "source": [
    "## Compute dataset end and parameterize lookahead window"
   ]
  },
  {
   "cell_type": "code",
   "execution_count": 18,
   "metadata": {},
   "outputs": [
    {
     "name": "stdout",
     "output_type": "stream",
     "text": [
      "DATA_END        : 2021-11-19\n",
      "LOOKAHEAD_DAYS  : 365\n",
      "valid_index_max : 2020-11-19\n"
     ]
    }
   ],
   "source": [
    "DATA_END_ENC = spark.sql(\"SELECT MAX(svc_date) AS max_dt FROM enc_costs\").first().max_dt\n",
    "DATA_END_CLAIM = (\n",
    "    claims.select(F.to_date(\"servicedate\").alias(\"svc_date\"))\n",
    "          .agg(F.max(\"svc_date\").alias(\"max_dt\")).first().max_dt\n",
    ")\n",
    "DATA_END = max(DATA_END_ENC, DATA_END_CLAIM)\n",
    "\n",
    "LOOKAHEAD_DAYS = 365   # change freely: e.g., 90, 180, 365\n",
    "\n",
    "valid_index_max_expr = F.date_sub(F.lit(DATA_END), LOOKAHEAD_DAYS)\n",
    "\n",
    "print(f\"DATA_END        : {DATA_END}\")\n",
    "print(f\"LOOKAHEAD_DAYS  : {LOOKAHEAD_DAYS}\")\n",
    "print(\"valid_index_max :\", spark.range(1).select(valid_index_max_expr.alias(\"valid_index_max\")).first().valid_index_max)"
   ]
  },
  {
   "cell_type": "markdown",
   "metadata": {},
   "source": [
    "## Create index_date (anchor per patient) and filter fully observed ones"
   ]
  },
  {
   "cell_type": "code",
   "execution_count": 19,
   "metadata": {},
   "outputs": [],
   "source": [
    "# Create index_date (anchor per patient) and filter fully observed ones\n",
    "idx = (\n",
    "    patient_summary\n",
    "    .select(\n",
    "        \"patient_id\",\n",
    "        \"last_enc_date\",\n",
    "        F.date_sub(F.col(\"last_enc_date\"), LOOKAHEAD_DAYS).alias(\"index_date\")\n",
    "    )\n",
    ")\n",
    "idx_valid = idx.where(F.col(\"index_date\") <= valid_index_max_expr).cache()\n",
    "idx_valid.count()  \n",
    "idx_valid.createOrReplaceTempView(\"v_index_date\")\n",
    "# Demographics + index join\n",
    "v_demo_valid = (\n",
    "    patient_summary.alias(\"ps\")\n",
    "    .join(idx_valid.alias(\"idx\"), on=\"patient_id\", how=\"inner\")\n",
    "    .select(\n",
    "        F.col(\"ps.patient_id\"),\n",
    "        F.col(\"ps.gender\"),\n",
    "        F.col(\"ps.race\"),\n",
    "        F.col(\"ps.ethnicity\"),\n",
    "        F.col(\"ps.age_years\").alias(\"age_at_index\"),\n",
    "        F.col(\"idx.index_date\"),\n",
    "        F.col(\"ps.last_enc_date\")\n",
    "    )\n",
    "    .cache()  \n",
    ")\n",
    "v_demo_valid.count()  \n",
    "v_demo_valid.createOrReplaceTempView(\"v_demo_valid\")"
   ]
  },
  {
   "cell_type": "markdown",
   "metadata": {},
   "source": [
    "## Build label = total cost in next LOOKAHEAD_DAYS after index_date"
   ]
  },
  {
   "cell_type": "code",
   "execution_count": 20,
   "metadata": {},
   "outputs": [],
   "source": [
    "label = (\n",
    "    enc_costs.join(v_demo_valid.select(\"patient_id\", \"index_date\"), \"patient_id\")\n",
    "    .where(\n",
    "        (F.col(\"svc_date\") > F.col(\"index_date\")) &\n",
    "        (F.col(\"svc_date\") <= F.date_add(F.col(\"index_date\"), LOOKAHEAD_DAYS))\n",
    "    )\n",
    "    .groupBy(\"patient_id\")\n",
    "    .agg(F.round(F.sum(\"cost\"), 2).alias(\"cost_next_window\"))\n",
    "    .cache()  \n",
    ")\n",
    "label.count()  \n",
    "label.createOrReplaceTempView(\"v_label\")\n"
   ]
  },
  {
   "cell_type": "markdown",
   "metadata": {},
   "source": [
    "## Historical features (same as before, just restricted to valid cohort)"
   ]
  },
  {
   "cell_type": "code",
   "execution_count": 21,
   "metadata": {},
   "outputs": [
    {
     "name": "stderr",
     "output_type": "stream",
     "text": [
      "25/10/28 11:18:15 WARN CacheManager: Asked to cache already cached data.\n",
      "25/10/28 11:18:16 WARN CacheManager: Asked to cache already cached data.\n",
      "25/10/28 11:18:16 WARN CacheManager: Asked to cache already cached data.\n",
      "25/10/28 11:18:16 WARN CacheManager: Asked to cache already cached data.\n",
      "25/10/28 11:18:16 WARN CacheManager: Asked to cache already cached data.\n",
      "25/10/28 11:18:16 WARN CacheManager: Asked to cache already cached data.\n",
      "25/10/28 11:18:16 WARN CacheManager: Asked to cache already cached data.\n",
      "25/10/28 11:18:16 WARN CacheManager: Asked to cache already cached data.\n"
     ]
    }
   ],
   "source": [
    "hist_enc = (\n",
    "    enc_costs.join(v_demo_valid.select(\"patient_id\",\"index_date\"), \"patient_id\")\n",
    "             .where(F.col(\"svc_date\") <= F.col(\"index_date\"))\n",
    "             .groupBy(\"patient_id\")\n",
    "             .agg(F.count(\"*\").alias(\"n_encounters\"),\n",
    "                  F.round(F.sum(\"cost\"), 2).alias(\"hist_total_cost\"))\n",
    "             .cache()\n",
    ")\n",
    "hist_enc.count()\n",
    "hist_enc.createOrReplaceTempView(\"v_hist_enc\")\n",
    "\n",
    "# Conditions\n",
    "conditions_lc = conditions.withColumnRenamed(\"PATIENT\", \"patient_id\").withColumn(\"start_dt\", F.to_date(\"START\"))\n",
    "hist_cond = (\n",
    "    conditions_lc\n",
    "    .join(v_demo_valid.select(\"patient_id\",\"index_date\"), \"patient_id\")\n",
    "    .where(F.col(\"start_dt\") <= F.col(\"index_date\"))\n",
    "    .groupBy(\"patient_id\")\n",
    "    .agg(F.count(\"*\").alias(\"n_conditions\"))\n",
    "    .cache()\n",
    ")\n",
    "hist_cond.count()\n",
    "hist_cond.createOrReplaceTempView(\"v_hist_cond\")\n",
    "\n",
    "# Procedures\n",
    "hist_proc = (\n",
    "    procedures.withColumnRenamed(\"PATIENT\", \"patient_id\")\n",
    "              .withColumn(\"start_dt\", F.to_date(\"START\"))\n",
    "              .join(v_demo_valid.select(\"patient_id\",\"index_date\"), \"patient_id\")\n",
    "              .where(F.col(\"start_dt\") <= F.col(\"index_date\"))\n",
    "              .groupBy(\"patient_id\").agg(F.count(\"*\").alias(\"n_procedures\"))\n",
    "              .cache()\n",
    ")\n",
    "hist_proc.count()\n",
    "hist_proc.createOrReplaceTempView(\"v_hist_proc\")\n",
    "\n",
    "# Medications\n",
    "hist_med = (\n",
    "    medications.withColumnRenamed(\"PATIENT\", \"patient_id\")\n",
    "               .withColumn(\"start_dt\", F.to_date(\"START\"))\n",
    "               .join(v_demo_valid.select(\"patient_id\",\"index_date\"), \"patient_id\")\n",
    "               .where(F.col(\"start_dt\") <= F.col(\"index_date\"))\n",
    "               .groupBy(\"patient_id\").agg(F.count(\"*\").alias(\"n_medications\"))\n",
    "               .cache()\n",
    ")\n",
    "hist_med.count()\n",
    "hist_med.createOrReplaceTempView(\"v_hist_med\")\n",
    "\n",
    "# Observations\n",
    "hist_obs = (\n",
    "    observations.withColumnRenamed(\"PATIENT\", \"patient_id\")\n",
    "                .withColumn(\"start_dt\", F.to_date(\"DATE\"))\n",
    "                .join(v_demo_valid.select(\"patient_id\",\"index_date\"), \"patient_id\")\n",
    "                .where(F.col(\"start_dt\") <= F.col(\"index_date\"))\n",
    "                .groupBy(\"patient_id\").agg(F.count(\"*\").alias(\"n_observations\"))\n",
    "                .cache()\n",
    ")\n",
    "hist_obs.count()\n",
    "hist_obs.createOrReplaceTempView(\"v_hist_obs\")\n",
    "\n",
    "# Claims\n",
    "claims_hist = (\n",
    "    claims.withColumnRenamed(\"PATIENTID\", \"patient_id\")\n",
    "          .withColumn(\"start_dt\", F.to_date(\"servicedate\"))\n",
    "          .join(v_demo_valid.select(\"patient_id\",\"index_date\"), \"patient_id\")\n",
    "          .where(F.col(\"start_dt\") <= F.col(\"index_date\"))\n",
    "          .cache()\n",
    ")\n",
    "claims_hist.count()\n",
    "claims_hist.createOrReplaceTempView(\"claims_hist\")\n",
    "\n",
    "hist_claims = claims_hist.groupBy(\"patient_id\").agg(F.count(\"*\").alias(\"n_claims\")).cache()\n",
    "hist_claims.count()\n",
    "hist_claims.createOrReplaceTempView(\"v_hist_claims\")\n",
    "\n",
    "hist_claims_extra = (\n",
    "    claims_hist\n",
    "    .withColumn(\"has_diag\", F.expr(\"\"\"\n",
    "        diagnosis1 IS NOT NULL OR diagnosis2 IS NOT NULL OR diagnosis3 IS NOT NULL OR\n",
    "        diagnosis4 IS NOT NULL OR diagnosis5 IS NOT NULL OR diagnosis6 IS NOT NULL OR\n",
    "        diagnosis7 IS NOT NULL OR diagnosis8 IS NOT NULL\n",
    "    \"\"\"))\n",
    "    .groupBy(\"patient_id\")\n",
    "    .agg(\n",
    "        F.countDistinct(\"providerid\").alias(\"n_unique_providers\"),\n",
    "        F.countDistinct(\"departmentid\").alias(\"n_unique_departments\"),\n",
    "        F.sum(F.col(\"has_diag\").cast(\"int\")).alias(\"n_claims_with_diag\"),\n",
    "        F.datediff(F.max(\"start_dt\"), F.min(\"start_dt\")).alias(\"claim_span_days\")\n",
    "    )\n",
    "    .cache()\n",
    ")\n",
    "hist_claims_extra.count()\n",
    "hist_claims_extra.createOrReplaceTempView(\"v_hist_claims_extra\")"
   ]
  },
  {
   "cell_type": "markdown",
   "metadata": {},
   "source": [
    "##  Choose label threshold dynamically "
   ]
  },
  {
   "cell_type": "code",
   "execution_count": 38,
   "metadata": {},
   "outputs": [
    {
     "name": "stdout",
     "output_type": "stream",
     "text": [
      "Suggested THRESH for top-30% high cost (window=365 days): 14,308\n"
     ]
    }
   ],
   "source": [
    "thresh_row = spark.sql(\"\"\"\n",
    "  SELECT percentile_approx(cost_next_window, 0.7) AS thr\n",
    "  FROM v_label\n",
    "  WHERE cost_next_window IS NOT NULL\n",
    "\"\"\").first()\n",
    "THRESH = float(thresh_row.thr)\n",
    "print(f\"Suggested THRESH for top-30% high cost (window={LOOKAHEAD_DAYS} days): {THRESH:,.0f}\")\n"
   ]
  },
  {
   "cell_type": "markdown",
   "metadata": {},
   "source": [
    "## Assemble labeled feature table"
   ]
  },
  {
   "cell_type": "code",
   "execution_count": 39,
   "metadata": {},
   "outputs": [
    {
     "name": "stdout",
     "output_type": "stream",
     "text": [
      "Computing final dataset with 1163 patients...\n"
     ]
    },
    {
     "name": "stderr",
     "output_type": "stream",
     "text": [
      "25/10/28 16:03:41 WARN CacheManager: Asked to cache already cached data.\n"
     ]
    }
   ],
   "source": [
    "# Final labeled dataset - use DataFrame API instead of SQL for better control\n",
    "ps_labeled = (\n",
    "    v_demo_valid\n",
    "    .join(hist_enc, \"patient_id\", \"left\")\n",
    "    .join(hist_cond, \"patient_id\", \"left\")\n",
    "    .join(hist_proc, \"patient_id\", \"left\")\n",
    "    .join(hist_med, \"patient_id\", \"left\")\n",
    "    .join(hist_obs, \"patient_id\", \"left\")\n",
    "    .join(hist_claims, \"patient_id\", \"left\")\n",
    "    .join(label, \"patient_id\", \"left\")\n",
    "    .join(hist_claims_extra, \"patient_id\", \"left\")\n",
    "    .select(\n",
    "        \"patient_id\", \"gender\", \"race\", \"ethnicity\", \"age_at_index\", \"index_date\", \"last_enc_date\",\n",
    "        F.coalesce(\"n_encounters\", F.lit(0)).alias(\"n_encounters\"),\n",
    "        F.coalesce(\"n_conditions\", F.lit(0)).alias(\"n_conditions\"),\n",
    "        F.coalesce(\"n_procedures\", F.lit(0)).alias(\"n_procedures\"),\n",
    "        F.coalesce(\"n_medications\", F.lit(0)).alias(\"n_medications\"),\n",
    "        F.coalesce(\"n_observations\", F.lit(0)).alias(\"n_observations\"),\n",
    "        F.coalesce(\"n_claims\", F.lit(0)).alias(\"n_claims\"),\n",
    "        F.coalesce(\"hist_total_cost\", F.lit(0.0)).alias(\"hist_total_cost\"),\n",
    "        F.coalesce(\"n_unique_providers\", F.lit(0)).alias(\"n_unique_providers\"),\n",
    "        F.coalesce(\"n_unique_departments\", F.lit(0)).alias(\"n_unique_departments\"),\n",
    "        F.coalesce(\"n_claims_with_diag\", F.lit(0)).alias(\"n_claims_with_diag\"),\n",
    "        F.coalesce(\"claim_span_days\", F.lit(0)).alias(\"claim_span_days\"),\n",
    "        F.coalesce(\"cost_next_window\", F.lit(0.0)).alias(\"cost_next_window\"),\n",
    "        F.when(F.coalesce(\"cost_next_window\", F.lit(0.0)) >= THRESH, 1).otherwise(0).alias(\"label\")\n",
    "    )\n",
    "    .cache()  # Cache final result before writing\n",
    ")\n",
    "\n",
    "print(f\"Computing final dataset with {ps_labeled.count()} patients...\")"
   ]
  },
  {
   "cell_type": "markdown",
   "metadata": {},
   "source": [
    "## Save processed features"
   ]
  },
  {
   "cell_type": "code",
   "execution_count": 40,
   "metadata": {},
   "outputs": [
    {
     "name": "stdout",
     "output_type": "stream",
     "text": [
      "Saved features to: /home/utsajinlab/health_claims_ml/data/raw/synthea_1k/processed/features_parquet\n"
     ]
    }
   ],
   "source": [
    "# Write output\n",
    "out_dir = os.path.abspath(os.path.join(DATA_DIR, \"..\", \"processed\", \"features_parquet\"))\n",
    "ps_labeled.write.mode(\"overwrite\").parquet(out_dir)\n",
    "print(\"Saved features to:\", out_dir)\n",
    "\n"
   ]
  },
  {
   "cell_type": "markdown",
   "metadata": {},
   "source": [
    "## Quick prevalence check"
   ]
  },
  {
   "cell_type": "code",
   "execution_count": 41,
   "metadata": {},
   "outputs": [
    {
     "name": "stdout",
     "output_type": "stream",
     "text": [
      "\n",
      "📈 Label distribution:\n",
      "+-----+-----+-----+\n",
      "|label|count|  pct|\n",
      "+-----+-----+-----+\n",
      "|    1|  349|30.01|\n",
      "|    0|  814|69.99|\n",
      "+-----+-----+-----+\n",
      "\n"
     ]
    },
    {
     "name": "stderr",
     "output_type": "stream",
     "text": [
      "25/10/28 16:03:44 WARN WindowExec: No Partition Defined for Window operation! Moving all data to a single partition, this can cause serious performance degradation.\n",
      "25/10/28 16:03:44 WARN WindowExec: No Partition Defined for Window operation! Moving all data to a single partition, this can cause serious performance degradation.\n",
      "25/10/28 16:03:44 WARN WindowExec: No Partition Defined for Window operation! Moving all data to a single partition, this can cause serious performance degradation.\n",
      "25/10/28 16:03:44 WARN WindowExec: No Partition Defined for Window operation! Moving all data to a single partition, this can cause serious performance degradation.\n",
      "25/10/28 16:03:44 WARN WindowExec: No Partition Defined for Window operation! Moving all data to a single partition, this can cause serious performance degradation.\n",
      "25/10/28 16:03:44 WARN WindowExec: No Partition Defined for Window operation! Moving all data to a single partition, this can cause serious performance degradation.\n",
      "25/10/28 16:03:44 WARN WindowExec: No Partition Defined for Window operation! Moving all data to a single partition, this can cause serious performance degradation.\n",
      "25/10/28 16:03:44 WARN WindowExec: No Partition Defined for Window operation! Moving all data to a single partition, this can cause serious performance degradation.\n",
      "25/10/28 16:03:44 WARN WindowExec: No Partition Defined for Window operation! Moving all data to a single partition, this can cause serious performance degradation.\n"
     ]
    },
    {
     "data": {
      "text/plain": [
       "DataFrame[patient_id: string, cost_next_window: double]"
      ]
     },
     "execution_count": 41,
     "metadata": {},
     "output_type": "execute_result"
    }
   ],
   "source": [
    "# Add this import at the top\n",
    "from pyspark.sql.window import Window\n",
    "\n",
    "# Then use it correctly:\n",
    "print(\"\\n📈 Label distribution:\")\n",
    "ps_labeled.groupBy(\"label\").count().withColumn(\n",
    "    \"pct\", F.round(100 * F.col(\"count\") / F.sum(\"count\").over(Window.partitionBy(F.lit(1))), 2)\n",
    ").orderBy(F.desc(\"label\")).show()\n",
    "\n",
    "# Clean up\n",
    "enc_costs.unpersist()\n",
    "idx_valid.unpersist()\n",
    "v_demo_valid.unpersist()\n",
    "label.unpersist()"
   ]
  },
  {
   "cell_type": "markdown",
   "metadata": {},
   "source": [
    "## Code to View the Final Table"
   ]
  },
  {
   "cell_type": "code",
   "execution_count": 42,
   "metadata": {},
   "outputs": [
    {
     "name": "stdout",
     "output_type": "stream",
     "text": [
      " Schema:\n",
      "root\n",
      " |-- patient_id: string (nullable = true)\n",
      " |-- gender: string (nullable = true)\n",
      " |-- race: string (nullable = true)\n",
      " |-- ethnicity: string (nullable = true)\n",
      " |-- age_at_index: decimal(13,0) (nullable = true)\n",
      " |-- index_date: date (nullable = true)\n",
      " |-- last_enc_date: date (nullable = true)\n",
      " |-- n_encounters: long (nullable = false)\n",
      " |-- n_conditions: long (nullable = false)\n",
      " |-- n_procedures: long (nullable = false)\n",
      " |-- n_medications: long (nullable = false)\n",
      " |-- n_observations: long (nullable = false)\n",
      " |-- n_claims: long (nullable = false)\n",
      " |-- hist_total_cost: double (nullable = false)\n",
      " |-- n_unique_providers: long (nullable = false)\n",
      " |-- n_unique_departments: long (nullable = false)\n",
      " |-- n_claims_with_diag: long (nullable = false)\n",
      " |-- claim_span_days: integer (nullable = false)\n",
      " |-- cost_next_window: double (nullable = false)\n",
      " |-- label: integer (nullable = false)\n",
      "\n",
      "\n",
      " First 10 rows:\n",
      "+------------------------------------+------+-----+-----------+------------+----------+-------------+------------+------------+------------+-------------+--------------+--------+---------------+------------------+--------------------+------------------+---------------+----------------+-----+\n",
      "|patient_id                          |gender|race |ethnicity  |age_at_index|index_date|last_enc_date|n_encounters|n_conditions|n_procedures|n_medications|n_observations|n_claims|hist_total_cost|n_unique_providers|n_unique_departments|n_claims_with_diag|claim_span_days|cost_next_window|label|\n",
      "+------------------------------------+------+-----+-----------+------------+----------+-------------+------------+------------+------------+-------------+--------------+--------+---------------+------------------+--------------------+------------------+---------------+----------------+-----+\n",
      "|3a74ce3c-442e-b4ef-fb10-560f58f8e613|M     |white|nonhispanic|28          |2020-06-23|2021-06-23   |15          |15          |34          |19           |280           |34      |10147.75       |2                 |3                   |34                |2968           |2086.22         |0    |\n",
      "|04f25f73-04b2-469c-3806-540417a0d61c|F     |white|hispanic   |56          |2004-10-31|2005-10-31   |79          |33          |209         |44           |362           |123     |754295.26      |2                 |5                   |123               |11639          |61599.19        |1    |\n",
      "|c88891ca-5796-aca3-c67d-0b2043dd0463|M     |white|nonhispanic|17          |2020-11-03|2021-11-03   |33          |6           |24          |6            |129           |39      |226357.37      |2                 |4                   |39                |2885           |128438.71       |1    |\n",
      "|b45719be-ad92-ca35-29be-daaacf4f258b|M     |white|nonhispanic|59          |2020-04-20|2021-04-20   |46          |54          |49          |40           |351           |86      |70930.5        |3                 |5                   |86                |13356          |15833.75        |1    |\n",
      "|fa311677-035c-7329-3dec-2a01c9afd965|M     |asian|nonhispanic|67          |2020-07-10|2021-07-10   |49          |49          |54          |91           |433           |140     |88129.21       |2                 |3                   |140               |15953          |2208.17         |0    |\n",
      "|82e25b95-7bfc-a54f-f242-1e7156c27d74|F     |white|nonhispanic|52          |2020-08-20|2021-08-20   |55          |46          |68          |70           |494           |125     |90285.42       |2                 |3                   |125               |10759          |1974.23         |0    |\n",
      "|5fe0db77-0fe4-4472-ce22-b6e860ec103a|F     |white|nonhispanic|15          |2020-10-02|2021-10-02   |22          |7           |5           |4            |193           |26      |18191.47       |4                 |4                   |26                |3230           |93820.77        |1    |\n",
      "|7fea6a12-aae3-a4d5-4abf-d6b622deaeb1|M     |black|hispanic   |38          |2020-05-16|2021-05-16   |17          |25          |47          |45           |342           |62      |19294.97       |2                 |2                   |62                |5194           |1325.69         |0    |\n",
      "|965ecf4b-40d6-02e3-fe08-acd9eafc68fe|M     |white|nonhispanic|77          |2001-12-10|2002-12-10   |28          |28          |57          |13           |396           |41      |51318.93       |3                 |5                   |41                |12854          |30620.68        |1    |\n",
      "|67c6597f-c239-a595-beac-b2941e7b54ff|M     |asian|nonhispanic|61          |2020-10-02|2021-10-02   |40          |32          |49          |23           |532           |63      |130805.36      |2                 |3                   |63                |13868          |1403.18         |0    |\n",
      "+------------------------------------+------+-----+-----------+------------+----------+-------------+------------+------------+------------+-------------+--------------+--------+---------------+------------------+--------------------+------------------+---------------+----------------+-----+\n",
      "only showing top 10 rows\n",
      "\n",
      " Summary statistics:\n",
      "+-------+------------------+------------------+------------------+-----------------+------------------+------------------+------------------+-------------------+\n",
      "|summary|      age_at_index|      n_encounters|      n_conditions|     n_procedures|     n_medications|   hist_total_cost|  cost_next_window|              label|\n",
      "+-------+------------------+------------------+------------------+-----------------+------------------+------------------+------------------+-------------------+\n",
      "|  count|              1163|              1163|              1163|             1163|              1163|              1163|              1163|               1163|\n",
      "|   mean|           48.4144|46.752364574376614|30.273430782459158|62.42046431642304|45.327601031814275|195271.14735167671|24018.472665520203| 0.3000859845227859|\n",
      "| stddev|27.584703494551892|  66.9488763837836| 34.44446063360674| 73.1388547664538|130.37186382729527| 569781.6164468277| 60073.58650533758|0.45849224519045334|\n",
      "|    min|                 4|                 0|                 0|                0|                 0|               0.0|               0.0|                  0|\n",
      "|    25%|              26.0|                18|                10|               25|                 3|          17444.88|           1380.43|                  0|\n",
      "|    50%|              47.0|                35|                25|               52|                 9|          69704.22|           2170.21|                  0|\n",
      "|    75%|              66.0|                57|                41|               71|                39|         226357.37|          17418.65|                  1|\n",
      "|    max|               114|              1426|               443|             1374|              2056|     1.235251158E7|         877375.87|                  1|\n",
      "+-------+------------------+------------------+------------------+-----------------+------------------+------------------+------------------+-------------------+\n",
      "\n",
      "\n",
      "💰 High-cost vs Normal-cost comparison:\n",
      "+-----+----------+-------+--------------+--------------+--------------+-------------+---------------+\n",
      "|label|n_patients|avg_age|avg_encounters|avg_conditions|avg_procedures|avg_hist_cost|avg_future_cost|\n",
      "+-----+----------+-------+--------------+--------------+--------------+-------------+---------------+\n",
      "|    1|       349|   59.1|          68.0|          38.8|          94.4|     388055.0|        73938.0|\n",
      "|    0|       814|   43.8|          37.7|          26.6|          48.7|     112615.0|         2616.0|\n",
      "+-----+----------+-------+--------------+--------------+--------------+-------------+---------------+\n",
      "\n",
      "\n",
      " Sample of high-cost patients (label=1):\n",
      "+------------------------------------+------------+------+------------+------------+---------------+----------------+\n",
      "|patient_id                          |age_at_index|gender|n_encounters|n_conditions|hist_total_cost|cost_next_window|\n",
      "+------------------------------------+------------+------+------------+------------+---------------+----------------+\n",
      "|04f25f73-04b2-469c-3806-540417a0d61c|56          |F     |79          |33          |754295.26      |61599.19        |\n",
      "|c88891ca-5796-aca3-c67d-0b2043dd0463|17          |M     |33          |6           |226357.37      |128438.71       |\n",
      "|b45719be-ad92-ca35-29be-daaacf4f258b|59          |M     |46          |54          |70930.5        |15833.75        |\n",
      "|5fe0db77-0fe4-4472-ce22-b6e860ec103a|15          |F     |22          |7           |18191.47       |93820.77        |\n",
      "|965ecf4b-40d6-02e3-fe08-acd9eafc68fe|77          |M     |28          |28          |51318.93       |30620.68        |\n",
      "+------------------------------------+------------+------+------------+------------+---------------+----------------+\n",
      "only showing top 5 rows\n",
      "\n",
      " Sample of normal-cost patients (label=0):\n",
      "+------------------------------------+------------+------+------------+------------+---------------+----------------+\n",
      "|patient_id                          |age_at_index|gender|n_encounters|n_conditions|hist_total_cost|cost_next_window|\n",
      "+------------------------------------+------------+------+------------+------------+---------------+----------------+\n",
      "|3a74ce3c-442e-b4ef-fb10-560f58f8e613|28          |M     |15          |15          |10147.75       |2086.22         |\n",
      "|fa311677-035c-7329-3dec-2a01c9afd965|67          |M     |49          |49          |88129.21       |2208.17         |\n",
      "|82e25b95-7bfc-a54f-f242-1e7156c27d74|52          |F     |55          |46          |90285.42       |1974.23         |\n",
      "|7fea6a12-aae3-a4d5-4abf-d6b622deaeb1|38          |M     |17          |25          |19294.97       |1325.69         |\n",
      "|67c6597f-c239-a595-beac-b2941e7b54ff|61          |M     |40          |32          |130805.36      |1403.18         |\n",
      "+------------------------------------+------------+------+------------+------------+---------------+----------------+\n",
      "only showing top 5 rows\n",
      "\n",
      " Missing value counts:\n",
      "-RECORD 0-------------------\n",
      " patient_id           | 0   \n",
      " gender               | 0   \n",
      " race                 | 0   \n",
      " ethnicity            | 0   \n",
      " age_at_index         | 0   \n",
      " index_date           | 0   \n",
      " last_enc_date        | 0   \n",
      " n_encounters         | 0   \n",
      " n_conditions         | 0   \n",
      " n_procedures         | 0   \n",
      " n_medications        | 0   \n",
      " n_observations       | 0   \n",
      " n_claims             | 0   \n",
      " hist_total_cost      | 0   \n",
      " n_unique_providers   | 0   \n",
      " n_unique_departments | 0   \n",
      " n_claims_with_diag   | 0   \n",
      " claim_span_days      | 0   \n",
      " cost_next_window     | 0   \n",
      " label                | 0   \n",
      "\n",
      "\n",
      " Converting sample to Pandas for easier viewing:\n",
      "                              patient_id gender   race    ethnicity age_at_index  index_date last_enc_date  n_encounters  n_conditions  n_procedures  n_medications  n_observations  n_claims  hist_total_cost  n_unique_providers  n_unique_departments  n_claims_with_diag  claim_span_days  cost_next_window  label\n",
      "0   3a74ce3c-442e-b4ef-fb10-560f58f8e613      M  white  nonhispanic           28  2020-06-23    2021-06-23            15            15            34             19             280        34         10147.75                   2                     3                  34             2968           2086.22      0\n",
      "1   04f25f73-04b2-469c-3806-540417a0d61c      F  white     hispanic           56  2004-10-31    2005-10-31            79            33           209             44             362       123        754295.26                   2                     5                 123            11639          61599.19      1\n",
      "2   c88891ca-5796-aca3-c67d-0b2043dd0463      M  white  nonhispanic           17  2020-11-03    2021-11-03            33             6            24              6             129        39        226357.37                   2                     4                  39             2885         128438.71      1\n",
      "3   b45719be-ad92-ca35-29be-daaacf4f258b      M  white  nonhispanic           59  2020-04-20    2021-04-20            46            54            49             40             351        86         70930.50                   3                     5                  86            13356          15833.75      1\n",
      "4   fa311677-035c-7329-3dec-2a01c9afd965      M  asian  nonhispanic           67  2020-07-10    2021-07-10            49            49            54             91             433       140         88129.21                   2                     3                 140            15953           2208.17      0\n",
      "5   82e25b95-7bfc-a54f-f242-1e7156c27d74      F  white  nonhispanic           52  2020-08-20    2021-08-20            55            46            68             70             494       125         90285.42                   2                     3                 125            10759           1974.23      0\n",
      "6   5fe0db77-0fe4-4472-ce22-b6e860ec103a      F  white  nonhispanic           15  2020-10-02    2021-10-02            22             7             5              4             193        26         18191.47                   4                     4                  26             3230          93820.77      1\n",
      "7   7fea6a12-aae3-a4d5-4abf-d6b622deaeb1      M  black     hispanic           38  2020-05-16    2021-05-16            17            25            47             45             342        62         19294.97                   2                     2                  62             5194           1325.69      0\n",
      "8   965ecf4b-40d6-02e3-fe08-acd9eafc68fe      M  white  nonhispanic           77  2001-12-10    2002-12-10            28            28            57             13             396        41         51318.93                   3                     5                  41            12854          30620.68      1\n",
      "9   67c6597f-c239-a595-beac-b2941e7b54ff      M  asian  nonhispanic           61  2020-10-02    2021-10-02            40            32            49             23             532        63        130805.36                   2                     3                  63            13868           1403.18      0\n",
      "10  94c64aed-cca1-dc80-c180-5ba446c00df4      F  white  nonhispanic           35  2020-03-26    2021-03-26            55            30           162             52             403       107        507027.89                   2                     4                 107            10330         188225.76      1\n",
      "11  9a89902c-ba23-e035-51fc-1dd6285e6309      F  white  nonhispanic           49  2020-05-24    2021-05-24            23            25            33              2             243        25        101061.17                   5                     6                  25            15152           1325.69      0\n",
      "12  8daa23b6-137c-abd3-58c8-da0f70b98143      F  white  nonhispanic           10  2020-10-08    2021-10-08            16             2             9              2             178        18         12609.29                   2                     3                  18             1806          15036.81      1\n",
      "13  b8c195d4-0396-fb84-3aa2-57dd23ff5a23      M  black  nonhispanic           47  2020-06-25    2021-06-25            32            43            51             30             353        62         33297.48                   2                     4                  62             8904           1681.08      0\n",
      "14  792a51c0-a2a4-ee26-c23c-7cb24f8a0e35      M  white  nonhispanic           56  2020-05-17    2021-05-17            18            23            24              9             253        27         32426.30                   2                     4                  27            12747            786.33      0\n",
      "15  72b71d33-b242-8f86-7ce0-198b3dfd3bf1      F  white  nonhispanic           77  2020-11-08    2021-11-08            54            48            55             10             548        64        101641.75                   3                     5                  64            26033           2120.60      0\n",
      "16  964576b0-7527-b34a-d7c8-37cee9f6e396      F  white  nonhispanic           20  2020-11-12    2021-11-12            16             4            19              4             148        20          8627.71                   2                     4                  20             2968         150043.66      1\n",
      "17  f4e9db02-4f07-2d07-f7f3-fc01c45454d1      F  white  nonhispanic           65  2020-06-03    2021-06-03            19            15            54              0             356        19         53323.30                   2                     4                  19            19648           1466.21      0\n",
      "18  61adebe2-451a-0518-8424-dabde68087ea      F  asian     hispanic            5  2020-08-25    2021-08-25             4             0             3              0              54         4          3408.57                   1                     1                   4              161           4509.57      0\n",
      "19  c6861ca8-bf6b-8912-57d6-68df88cbe481      M  white  nonhispanic           30  2020-07-17    2021-07-17            14            13            30             10             219        24          7883.44                   3                     5                  24             7854           1325.69      0\n",
      "\n",
      " Feature correlation with label:\n",
      "  age_at_index             : +0.255\n",
      "  n_encounters             : +0.207\n",
      "  n_conditions             : +0.163\n",
      "  n_procedures             : +0.286\n",
      "  n_medications            : +0.158\n",
      "  n_observations           : +0.153\n",
      "  n_claims                 : +0.180\n",
      "  hist_total_cost          : +0.222\n",
      "  n_unique_providers       : +0.096\n",
      "  n_unique_departments     : +0.222\n",
      "  claim_span_days          : +0.184\n"
     ]
    }
   ],
   "source": [
    "# 1. Show schema (column names and types)\n",
    "print(\" Schema:\")\n",
    "ps_labeled.printSchema()\n",
    "\n",
    "# 2. Show first 10 rows\n",
    "print(\"\\n First 10 rows:\")\n",
    "ps_labeled.show(10, truncate=False)\n",
    "\n",
    "# 3. Show summary statistics for numeric columns\n",
    "print(\"\\n Summary statistics:\")\n",
    "ps_labeled.select(\n",
    "    \"age_at_index\",\n",
    "    \"n_encounters\", \n",
    "    \"n_conditions\",\n",
    "    \"n_procedures\",\n",
    "    \"n_medications\",\n",
    "    \"hist_total_cost\",\n",
    "    \"cost_next_window\",\n",
    "    \"label\"\n",
    ").summary().show()\n",
    "\n",
    "# 4. Compare high-cost vs normal-cost patients (means by group)\n",
    "print(\"\\n💰 High-cost vs Normal-cost comparison:\")\n",
    "ps_labeled.groupBy(\"label\").agg(\n",
    "    F.count(\"*\").alias(\"n_patients\"),\n",
    "    F.round(F.mean(\"age_at_index\"), 1).alias(\"avg_age\"),\n",
    "    F.round(F.mean(\"n_encounters\"), 1).alias(\"avg_encounters\"),\n",
    "    F.round(F.mean(\"n_conditions\"), 1).alias(\"avg_conditions\"),\n",
    "    F.round(F.mean(\"n_procedures\"), 1).alias(\"avg_procedures\"),\n",
    "    F.round(F.mean(\"hist_total_cost\"), 0).alias(\"avg_hist_cost\"),\n",
    "    F.round(F.mean(\"cost_next_window\"), 0).alias(\"avg_future_cost\")\n",
    ").orderBy(F.desc(\"label\")).show()\n",
    "\n",
    "# 5. Show a few high-cost patients in detail\n",
    "print(\"\\n Sample of high-cost patients (label=1):\")\n",
    "ps_labeled.filter(F.col(\"label\") == 1).select(\n",
    "    \"patient_id\",\n",
    "    \"age_at_index\",\n",
    "    \"gender\",\n",
    "    \"n_encounters\",\n",
    "    \"n_conditions\",\n",
    "    \"hist_total_cost\",\n",
    "    \"cost_next_window\"\n",
    ").show(5, truncate=False)\n",
    "\n",
    "# 6. Show a few normal-cost patients\n",
    "print(\"\\n Sample of normal-cost patients (label=0):\")\n",
    "ps_labeled.filter(F.col(\"label\") == 0).select(\n",
    "    \"patient_id\",\n",
    "    \"age_at_index\",\n",
    "    \"gender\",\n",
    "    \"n_encounters\",\n",
    "    \"n_conditions\",\n",
    "    \"hist_total_cost\",\n",
    "    \"cost_next_window\"\n",
    ").show(5, truncate=False)\n",
    "\n",
    "# 7. Check for any missing values\n",
    "print(\"\\n Missing value counts:\")\n",
    "from pyspark.sql.functions import col, sum as spark_sum, when, count\n",
    "ps_labeled.select([\n",
    "    spark_sum(when(col(c).isNull(), 1).otherwise(0)).alias(c)\n",
    "    for c in ps_labeled.columns\n",
    "]).show(vertical=True)\n",
    "\n",
    "# 8. Export a sample to pandas for quick viewing (if dataset is small)\n",
    "print(\"\\n Converting sample to Pandas for easier viewing:\")\n",
    "sample_df = ps_labeled.limit(20).toPandas()\n",
    "print(sample_df.to_string())\n",
    "\n",
    "# 9. Check correlation between features and label (which features matter most?)\n",
    "print(\"\\n Feature correlation with label:\")\n",
    "feature_cols = [\n",
    "    \"age_at_index\", \"n_encounters\", \"n_conditions\", \"n_procedures\",\n",
    "    \"n_medications\", \"n_observations\", \"n_claims\", \"hist_total_cost\",\n",
    "    \"n_unique_providers\", \"n_unique_departments\", \"claim_span_days\"\n",
    "]\n",
    "\n",
    "for col_name in feature_cols:\n",
    "    corr = ps_labeled.stat.corr(col_name, \"label\")\n",
    "    print(f\"  {col_name:25s}: {corr:+.3f}\")"
   ]
  },
  {
   "cell_type": "code",
   "execution_count": null,
   "metadata": {},
   "outputs": [],
   "source": []
  }
 ],
 "metadata": {
  "kernelspec": {
   "display_name": "Python (health_claims_ml)",
   "language": "python",
   "name": "health_claims_ml"
  },
  "language_info": {
   "codemirror_mode": {
    "name": "ipython",
    "version": 3
   },
   "file_extension": ".py",
   "mimetype": "text/x-python",
   "name": "python",
   "nbconvert_exporter": "python",
   "pygments_lexer": "ipython3",
   "version": "3.12.2"
  }
 },
 "nbformat": 4,
 "nbformat_minor": 2
}
